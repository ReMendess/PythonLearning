{
  "nbformat": 4,
  "nbformat_minor": 0,
  "metadata": {
    "colab": {
      "provenance": []
    },
    "kernelspec": {
      "name": "python3",
      "display_name": "Python 3"
    },
    "language_info": {
      "name": "python"
    }
  },
  "cells": [
    {
      "cell_type": "code",
      "execution_count": null,
      "metadata": {
        "colab": {
          "base_uri": "https://localhost:8080/"
        },
        "id": "Q7RCUf_P8PIH",
        "outputId": "cbf256e0-f746-4d22-96eb-34d8f0a78b04"
      },
      "outputs": [
        {
          "output_type": "stream",
          "name": "stdout",
          "text": [
            "Hello World\n"
          ]
        }
      ],
      "source": [
        "print('Hello World')"
      ]
    },
    {
      "cell_type": "code",
      "source": [
        "print('Renan',25)"
      ],
      "metadata": {
        "colab": {
          "base_uri": "https://localhost:8080/"
        },
        "id": "kpKfoSEU8zld",
        "outputId": "e3a161db-0c5a-4d96-f689-cd705d380131"
      },
      "execution_count": null,
      "outputs": [
        {
          "output_type": "stream",
          "name": "stdout",
          "text": [
            "Renan 25\n"
          ]
        }
      ]
    },
    {
      "cell_type": "code",
      "source": [
        "variavel = 54\n"
      ],
      "metadata": {
        "id": "qQ-8EsfC9mJe"
      },
      "execution_count": null,
      "outputs": []
    },
    {
      "cell_type": "code",
      "source": [
        "print(variavel)"
      ],
      "metadata": {
        "colab": {
          "base_uri": "https://localhost:8080/"
        },
        "id": "eZ2bYNyh-SRT",
        "outputId": "37312c8a-679e-4dd8-d457-7ba8e86f1f30"
      },
      "execution_count": null,
      "outputs": [
        {
          "output_type": "stream",
          "name": "stdout",
          "text": [
            "54\n"
          ]
        }
      ]
    },
    {
      "cell_type": "code",
      "source": [
        "teste2 = 'teste'"
      ],
      "metadata": {
        "id": "0MXfx1yx-W1z"
      },
      "execution_count": null,
      "outputs": []
    },
    {
      "cell_type": "code",
      "source": [
        "print(teste2)"
      ],
      "metadata": {
        "colab": {
          "base_uri": "https://localhost:8080/"
        },
        "id": "hKrz6AcBAGcg",
        "outputId": "a3e6526a-cdf1-4ed2-f3a0-2f636aeeff70"
      },
      "execution_count": null,
      "outputs": [
        {
          "output_type": "stream",
          "name": "stdout",
          "text": [
            "teste\n"
          ]
        }
      ]
    },
    {
      "cell_type": "code",
      "source": [
        "type (teste2)"
      ],
      "metadata": {
        "colab": {
          "base_uri": "https://localhost:8080/"
        },
        "id": "go_iverJAJjI",
        "outputId": "6c36f880-84ca-4f40-cc4d-9922942d048d"
      },
      "execution_count": null,
      "outputs": [
        {
          "output_type": "execute_result",
          "data": {
            "text/plain": [
              "str"
            ]
          },
          "metadata": {},
          "execution_count": 7
        }
      ]
    },
    {
      "cell_type": "code",
      "source": [
        "nome_aluno = 'Renan'\n",
        "idade_aluno = 25\n",
        "media_aluno = 9.99\n",
        "aprovacao = True"
      ],
      "metadata": {
        "id": "JX6zSNWHBM8_"
      },
      "execution_count": null,
      "outputs": []
    },
    {
      "cell_type": "code",
      "source": [
        "print(nome_aluno, idade_aluno, media_aluno, aprovacao)"
      ],
      "metadata": {
        "colab": {
          "base_uri": "https://localhost:8080/"
        },
        "id": "msTQ3Ux2B3IC",
        "outputId": "dbe1db3d-ab4a-4a00-ff32-cc8b555e9fea"
      },
      "execution_count": null,
      "outputs": [
        {
          "output_type": "stream",
          "name": "stdout",
          "text": [
            "Renan 25 9.99 True\n"
          ]
        }
      ]
    },
    {
      "cell_type": "code",
      "source": [
        "7 // 3"
      ],
      "metadata": {
        "colab": {
          "base_uri": "https://localhost:8080/"
        },
        "id": "GOqvUg_hCC5l",
        "outputId": "ca09d0b9-0d71-447b-daa2-9c07e876f69e"
      },
      "execution_count": null,
      "outputs": [
        {
          "output_type": "execute_result",
          "data": {
            "text/plain": [
              "2"
            ]
          },
          "metadata": {},
          "execution_count": 10
        }
      ]
    },
    {
      "cell_type": "markdown",
      "source": [
        "Objeto.metodo"
      ],
      "metadata": {
        "id": "9Mn4JwfvIaCe"
      }
    },
    {
      "cell_type": "code",
      "source": [
        "nome_aluno = ' renan de oliveira mendes '"
      ],
      "metadata": {
        "id": "Ga4CObzSIT2Y"
      },
      "execution_count": null,
      "outputs": []
    },
    {
      "cell_type": "code",
      "source": [
        "nome_aluno.upper()"
      ],
      "metadata": {
        "colab": {
          "base_uri": "https://localhost:8080/",
          "height": 35
        },
        "id": "i53yVJI_KALB",
        "outputId": "d0dfff83-6888-43e4-dc7f-b503c7d55f3f"
      },
      "execution_count": null,
      "outputs": [
        {
          "output_type": "execute_result",
          "data": {
            "text/plain": [
              "' RENAN DE OLIVEIRA MENDES '"
            ],
            "application/vnd.google.colaboratory.intrinsic+json": {
              "type": "string"
            }
          },
          "metadata": {},
          "execution_count": 12
        }
      ]
    },
    {
      "cell_type": "code",
      "source": [
        "nome_aluno.lower()"
      ],
      "metadata": {
        "colab": {
          "base_uri": "https://localhost:8080/",
          "height": 35
        },
        "id": "yy09IDgFKH5o",
        "outputId": "4b45e9c5-0d02-4dfe-a794-62f727046c71"
      },
      "execution_count": null,
      "outputs": [
        {
          "output_type": "execute_result",
          "data": {
            "text/plain": [
              "' renan de oliveira mendes '"
            ],
            "application/vnd.google.colaboratory.intrinsic+json": {
              "type": "string"
            }
          },
          "metadata": {},
          "execution_count": 13
        }
      ]
    },
    {
      "cell_type": "code",
      "source": [
        "nome_aluno.strip() ##remove espaços no começo e fim da string"
      ],
      "metadata": {
        "colab": {
          "base_uri": "https://localhost:8080/",
          "height": 35
        },
        "id": "VBaNh5zVKXEJ",
        "outputId": "30e94f15-c168-4c0a-d42a-1610bc86acf3"
      },
      "execution_count": null,
      "outputs": [
        {
          "output_type": "execute_result",
          "data": {
            "text/plain": [
              "'renan de oliveira mendes'"
            ],
            "application/vnd.google.colaboratory.intrinsic+json": {
              "type": "string"
            }
          },
          "metadata": {},
          "execution_count": 14
        }
      ]
    },
    {
      "cell_type": "code",
      "source": [
        "nome_aluno.replace('s', 'z') ## substitui todas as ocorrencia do texto"
      ],
      "metadata": {
        "colab": {
          "base_uri": "https://localhost:8080/",
          "height": 35
        },
        "id": "WDECTM-HKgOq",
        "outputId": "0d4b795f-0d21-4786-ce34-a142400e4668"
      },
      "execution_count": null,
      "outputs": [
        {
          "output_type": "execute_result",
          "data": {
            "text/plain": [
              "' renan de oliveira mendez '"
            ],
            "application/vnd.google.colaboratory.intrinsic+json": {
              "type": "string"
            }
          },
          "metadata": {},
          "execution_count": 15
        }
      ]
    },
    {
      "cell_type": "code",
      "source": [
        "nome_aluno = nome_aluno.upper().strip()# é possivel utilizar dois metodos em conjuntos. e ao atribuir com = estamos salvando a alteração do metódo na váriavel."
      ],
      "metadata": {
        "id": "UOPCYtGuLiER"
      },
      "execution_count": null,
      "outputs": []
    },
    {
      "cell_type": "code",
      "source": [
        "print(nome_aluno)"
      ],
      "metadata": {
        "colab": {
          "base_uri": "https://localhost:8080/"
        },
        "id": "IEaXntx0L0eg",
        "outputId": "7ac41181-2134-4626-ab01-d5514a1bf0bc"
      },
      "execution_count": null,
      "outputs": [
        {
          "output_type": "stream",
          "name": "stdout",
          "text": [
            "RENAN DE OLIVEIRA MENDES\n"
          ]
        }
      ]
    },
    {
      "cell_type": "markdown",
      "source": [
        "Input"
      ],
      "metadata": {
        "id": "-fPfowCpNc_k"
      }
    },
    {
      "cell_type": "code",
      "source": [
        "diga = input('fala ai ')"
      ],
      "metadata": {
        "id": "ebmnmo-mL3XZ"
      },
      "execution_count": null,
      "outputs": []
    },
    {
      "cell_type": "code",
      "source": [
        "diga_idade = int(input('tem quantos anos? ')) #converter o input para int, pois sempre é string"
      ],
      "metadata": {
        "id": "pVvbypXSNkyi"
      },
      "execution_count": null,
      "outputs": []
    },
    {
      "cell_type": "code",
      "source": [
        "type(diga_idade)"
      ],
      "metadata": {
        "id": "AwWvvLICOtF2"
      },
      "execution_count": null,
      "outputs": []
    },
    {
      "cell_type": "code",
      "source": [
        "print(f' O melhor aluno da turma foi {nome_aluno} - com a média {media_aluno}') ## usar chaves em print para colocar as variaveis"
      ],
      "metadata": {
        "id": "S8Yb55tWPs_w"
      },
      "execution_count": null,
      "outputs": []
    },
    {
      "cell_type": "markdown",
      "source": [
        "## **Usando % para chamar váriaveis**\n",
        "\n"
      ],
      "metadata": {
        "id": "CTGQI2a5SjYQ"
      }
    },
    {
      "cell_type": "code",
      "source": [
        "print(' O melhor aluno da turma foi %s - com a média %f'%(nome_aluno, media_aluno)) ## usar %s %f %d e depois %(variaves) para colocar as variaveis no print"
      ],
      "metadata": {
        "id": "cwLNkqyUQfxL"
      },
      "execution_count": null,
      "outputs": []
    },
    {
      "cell_type": "code",
      "source": [
        "print(' O melhor aluno da turma foi %s - com a média %.2f'%(nome_aluno, media_aluno))  # podemos determinar a quantidade de casas decimais após a vírgula usando a sintaxe %.xf"
      ],
      "metadata": {
        "id": "rEN6nsSURwO4"
      },
      "execution_count": null,
      "outputs": []
    },
    {
      "cell_type": "code",
      "source": [
        "x = True\n",
        "print(\"Valor de x: %s\" % str(x))  ## usando % para fazer o print de variaveis, em casos de bool, precisa transformar em string\n"
      ],
      "metadata": {
        "id": "gpUBR7wFSNv1"
      },
      "execution_count": null,
      "outputs": []
    },
    {
      "cell_type": "markdown",
      "source": [
        "### Usando .format para chamar váriaveis"
      ],
      "metadata": {
        "id": "HVYAqi9GS2FT"
      }
    },
    {
      "cell_type": "code",
      "source": [
        "print(' O melhor aluno da turma foi {} - com a média {}'.format(nome_aluno, media_aluno))"
      ],
      "metadata": {
        "id": "ntQT67GRTAtG"
      },
      "execution_count": null,
      "outputs": []
    },
    {
      "cell_type": "code",
      "source": [
        "print(f' O melhor aluno da turma foi {nome_aluno} \\n Com a média {media_aluno}')  ## \\n para pular linha"
      ],
      "metadata": {
        "id": "icNqsT42TWWT"
      },
      "execution_count": null,
      "outputs": []
    },
    {
      "cell_type": "code",
      "source": [
        "print(f' O melhor aluno da turma foi {nome_aluno} \\t Com a média {media_aluno}')  ## \\t para tabular"
      ],
      "metadata": {
        "id": "-BpGTHIWTlp4"
      },
      "execution_count": null,
      "outputs": []
    },
    {
      "cell_type": "code",
      "source": [
        "print(\"Caminho do arquivo: C:\\\\arquivos\\\\documento.csv\") # use \\\\ para colocar uma \\ no print\n"
      ],
      "metadata": {
        "id": "O9xicLQDT65n"
      },
      "execution_count": null,
      "outputs": []
    },
    {
      "cell_type": "code",
      "source": [],
      "metadata": {
        "id": "17pUxBk5UB6D"
      },
      "execution_count": null,
      "outputs": []
    },
    {
      "cell_type": "code",
      "source": [
        "print(\"Ouvi uma vez \\\"Os frutos do conhecimento são os mais doces e duradouros de todos.\\\"\") #\n"
      ],
      "metadata": {
        "id": "yz776ux8UDd2"
      },
      "execution_count": null,
      "outputs": []
    },
    {
      "cell_type": "markdown",
      "source": [
        "### Estruturas Condicionais"
      ],
      "metadata": {
        "id": "H5RJllR0VJFg"
      }
    },
    {
      "cell_type": "code",
      "source": [
        "media_aluno = 4\n",
        "if media_aluno > 5:\n",
        "  print('aprovado')\n",
        "else:     ## precisa estar fora da indetação do if\n",
        "  print('reprovado')"
      ],
      "metadata": {
        "id": "mIdwcpetVN2K"
      },
      "execution_count": null,
      "outputs": []
    },
    {
      "cell_type": "code",
      "source": [
        "media_aluno = 4\n",
        "if media_aluno != 5:    ## diferente\n",
        "  print('não tirou 5')\n",
        "else:\n",
        "  print('tirou 5')"
      ],
      "metadata": {
        "id": "i0b4r25a3Al8"
      },
      "execution_count": null,
      "outputs": []
    },
    {
      "cell_type": "code",
      "source": [
        "media_aluno = 5\n",
        "if media_aluno == 5:    ## igual\n",
        "  print('tirou 5')\n",
        "else:\n",
        "  print('não tirou 5')"
      ],
      "metadata": {
        "id": "moYr9ixr3rae"
      },
      "execution_count": null,
      "outputs": []
    },
    {
      "cell_type": "code",
      "source": [
        "media_escrita = float(input('digite a média '))\n",
        "\n",
        "if media_escrita >= 7.0:\n",
        "  print('aprovado')\n",
        "else:\n",
        "  print('reprovado')"
      ],
      "metadata": {
        "id": "TZp_4CO54SYF"
      },
      "execution_count": null,
      "outputs": []
    },
    {
      "cell_type": "code",
      "source": [
        "media_escrita = float(input('digite a média '))\n",
        "\n",
        "if media_escrita >= 7.0:\n",
        "  print('aprovado')\n",
        "if 7.0 >= media_escrita >= 6.0:\n",
        "  print('recuperação')\n"
      ],
      "metadata": {
        "id": "JNFMghwb5XlM"
      },
      "execution_count": null,
      "outputs": []
    },
    {
      "cell_type": "code",
      "source": [
        "media_escrita = float(input('digite a média '))\n",
        "\n",
        "if media_escrita >= 7.0:\n",
        "  print('aprovado')\n",
        "elif 7.0 >= media_escrita >= 6.0:\n",
        "  print('recuperação')\n",
        "else:\n",
        "  print('reprovado')\n"
      ],
      "metadata": {
        "id": "LJ277-9B7Y3t"
      },
      "execution_count": null,
      "outputs": []
    },
    {
      "cell_type": "markdown",
      "source": [
        "## Operadores lógicos\n",
        "  # and or not in"
      ],
      "metadata": {
        "id": "gzLscSPl9F9r"
      }
    },
    {
      "cell_type": "code",
      "source": [
        "t1 = t2 = True\n",
        "f1 = f2 = False\n"
      ],
      "metadata": {
        "id": "Y1u-D6QR9P4m"
      },
      "execution_count": null,
      "outputs": []
    },
    {
      "cell_type": "code",
      "source": [
        "if t1 and t2: ## and verifica se ambas entradas são verdadeiras\n",
        "  print('verdadeiro')\n",
        "else:\n",
        "  print('falso')"
      ],
      "metadata": {
        "id": "S4nw0j_z98HU"
      },
      "execution_count": null,
      "outputs": []
    },
    {
      "cell_type": "code",
      "source": [
        "if t1 and f2: ## caso uma seja e outra não ele considera como False\n",
        "  print('verdadeiro')\n",
        "else:\n",
        "  print('falso')"
      ],
      "metadata": {
        "id": "_AOaFCqZ-fe-"
      },
      "execution_count": null,
      "outputs": []
    },
    {
      "cell_type": "code",
      "source": [
        "if f1 and f2: ## ambos false\n",
        "  print('verdadeiro')\n",
        "else:\n",
        "  print('falso')"
      ],
      "metadata": {
        "id": "w71E1CM--tsL"
      },
      "execution_count": null,
      "outputs": []
    },
    {
      "cell_type": "code",
      "source": [
        "if f1 or t2: ## or verifica se uma das entradas é verdadeira\n",
        "  print('verdadeiro')\n",
        "else:\n",
        "  print('falso')"
      ],
      "metadata": {
        "id": "qRacAxxm_KFm"
      },
      "execution_count": null,
      "outputs": []
    },
    {
      "cell_type": "code",
      "source": [
        "if f1 or f2: ## ambos false\n",
        "  print('verdadeiro')\n",
        "else:\n",
        "  print('falso')"
      ],
      "metadata": {
        "id": "P5UYFPie_GXn"
      },
      "execution_count": null,
      "outputs": []
    },
    {
      "cell_type": "code",
      "source": [
        "if not f1: ## not verifica se algo não é verdadeiro, é o inverso. Ele deu verdadeiro pq f1 não é verdadeiro\n",
        "  print('verdadeiro')\n",
        "else:\n",
        "  print('falso')"
      ],
      "metadata": {
        "id": "wQqiUN2W_q0n"
      },
      "execution_count": null,
      "outputs": []
    },
    {
      "cell_type": "code",
      "source": [
        "if not t1: ## ele deu falso pois t1 é TRUE\n",
        "  print('verdadeiro')\n",
        "else:\n",
        "  print('falso')"
      ],
      "metadata": {
        "id": "tnWctwVr_8To"
      },
      "execution_count": null,
      "outputs": []
    },
    {
      "cell_type": "code",
      "source": [
        "lista = 'renan mendes, lucas carvalho, larissa santos, thais zambra, amanda silva, hugo souza'"
      ],
      "metadata": {
        "id": "9cuyNYCrAHbi"
      },
      "execution_count": null,
      "outputs": []
    },
    {
      "cell_type": "code",
      "source": [
        "nome_1 = 'renan mendes'\n",
        "nome_2 = 'hugo souza'"
      ],
      "metadata": {
        "id": "-77Y4pBSAmUI"
      },
      "execution_count": null,
      "outputs": []
    },
    {
      "cell_type": "code",
      "source": [
        "if nome_1 in lista:  # in é usado para verificar se uma entrada está em uma lista ou em algum conjunto\n",
        "  print(f'{nome_1} está na lista')\n",
        "else:\n",
        "  print(f'{nome_1} não está na lista')"
      ],
      "metadata": {
        "id": "2SoQtHdwAzyl"
      },
      "execution_count": null,
      "outputs": []
    },
    {
      "cell_type": "code",
      "source": [
        "if nome_2 in lista:\n",
        "  print(f'{nome_2} está na lista')\n",
        "else:\n",
        "  print(f'{nome_2} não está na lista')"
      ],
      "metadata": {
        "id": "JoZ2yQ5tBobo"
      },
      "execution_count": null,
      "outputs": []
    },
    {
      "cell_type": "markdown",
      "source": [
        "### Estruturas de Repetição\n",
        "## while for\n",
        "\n"
      ],
      "metadata": {
        "id": "PbIQQpw1CO4n"
      }
    },
    {
      "cell_type": "code",
      "source": [
        "nota_1 = float(input('digite a nota 1 ')) #código de média\n",
        "nota_2 = float(input('digite a nota 2 '))\n",
        "\n",
        "print(f' média:  {(nota_1 + nota_2)/2}')"
      ],
      "metadata": {
        "id": "FHE5ufvgBxWB"
      },
      "execution_count": null,
      "outputs": []
    },
    {
      "cell_type": "code",
      "source": [
        "contador = 1\n",
        "while contador <= 10:  #estabelencendo o limite\n",
        "  print(contador)  #mostando a contagem\n",
        "  contador = contador + 1  #somando o contador\n",
        "\n"
      ],
      "metadata": {
        "id": "Kra35RgfHnTB"
      },
      "execution_count": null,
      "outputs": []
    },
    {
      "cell_type": "code",
      "source": [
        "contador = 1\n",
        "while contador <= 10:\n",
        "  print(contador)\n",
        "  contador += 1  #forma reduzida de fazer a soma do contador"
      ],
      "metadata": {
        "id": "fVDvsa_-ImRD"
      },
      "execution_count": null,
      "outputs": []
    },
    {
      "cell_type": "code",
      "source": [
        "contador = 1\n",
        "while contador <= 3:\n",
        "  nota_1 = float(input('digite a primeira nota  ')) #código de média\n",
        "  nota_2 = float(input('digite a segunda nota  '))\n",
        "\n",
        "  print(f' média:  {(nota_1 + nota_2)/2}')\n",
        "  contador += 1"
      ],
      "metadata": {
        "id": "K5rXKjVXIx1w"
      },
      "execution_count": null,
      "outputs": []
    },
    {
      "cell_type": "code",
      "source": [
        "for contador in range(1, 11):   #range cria cria uma sequencia range(inicio, fim, passo)\n",
        "  print(contador)"
      ],
      "metadata": {
        "id": "Cho3dOQIm1u_"
      },
      "execution_count": null,
      "outputs": []
    },
    {
      "cell_type": "code",
      "source": [
        "for contador in range(1,4):\n",
        "    nota_1 = float(input('digite a primeira nota  ')) #código de média\n",
        "    nota_2 = float(input('digite a segunda nota  '))\n",
        "\n",
        "    print(f' média:  {(nota_1 + nota_2)/2}')"
      ],
      "metadata": {
        "id": "_ppgWZtYpayb"
      },
      "execution_count": null,
      "outputs": []
    },
    {
      "cell_type": "code",
      "source": [
        "for i in range(1,6):\n",
        "    if i == 4:\n",
        "        continue  ## O continue interrompe a iteração atual do laço e salta para a próxima. no caso quando for igual a 4 ele não printa e pula para o 5\n",
        "    print(i)\n"
      ],
      "metadata": {
        "id": "Z64saDj4qS_f"
      },
      "execution_count": null,
      "outputs": []
    },
    {
      "cell_type": "code",
      "source": [
        "for i in range(1,6):\n",
        "    if i == 4:\n",
        "        break ## no caso break interrompe o bloco inteiro\n",
        "    print(i)\n"
      ],
      "metadata": {
        "id": "-rO6_MokqT2R"
      },
      "execution_count": null,
      "outputs": []
    },
    {
      "cell_type": "markdown",
      "source": [
        "### **Listas**"
      ],
      "metadata": {
        "id": "otbR6YWQwYSr"
      }
    },
    {
      "cell_type": "code",
      "source": [
        "lista = ['Renan mendes', 9.8, 9.0, 8.7, True ]\n",
        "lista"
      ],
      "metadata": {
        "id": "o2ZyVHQ9rMx6"
      },
      "execution_count": null,
      "outputs": []
    },
    {
      "cell_type": "code",
      "source": [
        "lista [0]"
      ],
      "metadata": {
        "id": "yi4sMc96reBc"
      },
      "execution_count": null,
      "outputs": []
    },
    {
      "cell_type": "code",
      "source": [
        "lista [1]"
      ],
      "metadata": {
        "id": "pqmmkDcitQw7"
      },
      "execution_count": null,
      "outputs": []
    },
    {
      "cell_type": "code",
      "source": [
        "lista [-1]"
      ],
      "metadata": {
        "id": "owfsENuitSeu"
      },
      "execution_count": null,
      "outputs": []
    },
    {
      "cell_type": "code",
      "source": [
        "for elemento in lista:\n",
        "  print(elemento)"
      ],
      "metadata": {
        "id": "NTLHHMlWtgoe"
      },
      "execution_count": null,
      "outputs": []
    },
    {
      "cell_type": "code",
      "source": [
        "lista[3] = 9.2  #atualizando um elemento na lista\n",
        "lista"
      ],
      "metadata": {
        "id": "cZT_ukoetoAk"
      },
      "execution_count": null,
      "outputs": []
    },
    {
      "cell_type": "code",
      "source": [
        "media_lista = (lista[1] + lista[2] + lista[3]) /3\n",
        "media_lista"
      ],
      "metadata": {
        "id": "NiZZ39lkt2SU"
      },
      "execution_count": null,
      "outputs": []
    },
    {
      "cell_type": "code",
      "source": [
        "nota4 = 9.55\n",
        "nota5 = 6.56\n",
        "media_nova = round((nota4 + nota5)/2, 2)  # round usado para definir as casas decimais\n",
        "print(f'Média: {media_nova}')"
      ],
      "metadata": {
        "id": "LjkZKiFdvLIn"
      },
      "execution_count": null,
      "outputs": []
    },
    {
      "cell_type": "code",
      "source": [
        "duvida = 'Quem veio antes? O ovo? Ou foi a serpente?'\n",
        "lista_palavras = duvida.split('?')  ## aqui separamos com .split a string em lista, sempre que tiver um ?\n",
        "print(lista_palavras)"
      ],
      "metadata": {
        "id": "8PD7tBuyvWoX"
      },
      "execution_count": null,
      "outputs": []
    },
    {
      "cell_type": "code",
      "source": [
        "duvida = 'Quem veio antes? O ovo? Ou foi a serpente?'\n",
        "lista_palavras = duvida.split()  ## O delimitador não aparece na separação. Caso ele não seja definido, a string será segregada por todos os espaços em branco no texto.\n",
        "print(lista_palavras)\n"
      ],
      "metadata": {
        "id": "clMQpGzNwKko"
      },
      "execution_count": null,
      "outputs": []
    },
    {
      "cell_type": "code",
      "source": [
        "misturas = ['Tintas: vermelho, azul e amarelo',\n",
        "            'Verde: mistura de azul e amarelo',\n",
        "            'Laranja: mistura de vermelho e amarelo',\n",
        "            'Roxo: mistura de vermelho e azul']\n",
        "unificador = '. '\n",
        "string_misturas = unificador.join(misturas)  ## podemos transformar uma lista em uma string através do método join()\n",
        "print(string_misturas)\n"
      ],
      "metadata": {
        "id": "PvZ3-cVswWTu"
      },
      "execution_count": null,
      "outputs": []
    },
    {
      "cell_type": "markdown",
      "source": [
        "### Manipulação de Listas\n",
        "len()"
      ],
      "metadata": {
        "id": "DRNGVI9Mw4mF"
      }
    },
    {
      "cell_type": "code",
      "source": [
        "len(lista)  ## vê a quantidade de elementos em uma lista\n"
      ],
      "metadata": {
        "id": "Xe2uMBT3w7JE"
      },
      "execution_count": null,
      "outputs": []
    },
    {
      "cell_type": "code",
      "source": [
        "lista[1:4]  ##partição, ver os elementos de um começo ao fim  - lista [inicio : fim]"
      ],
      "metadata": {
        "id": "wsyjM7T5xRVz"
      },
      "execution_count": null,
      "outputs": []
    },
    {
      "cell_type": "code",
      "source": [
        "lista[:4] ## se deixar vázio o começo, ele considera que quer ver desde o começo"
      ],
      "metadata": {
        "id": "CfZhnte0xrsD"
      },
      "execution_count": null,
      "outputs": []
    },
    {
      "cell_type": "code",
      "source": [
        "lista[3:] ## se deixar vázio o final, ele considera que quer ver até o fim"
      ],
      "metadata": {
        "id": "V7u58h8Fygqm"
      },
      "execution_count": null,
      "outputs": []
    },
    {
      "cell_type": "markdown",
      "source": [
        "# Métodos de manipulação\n",
        "append() extend() remove() insert() pop()"
      ],
      "metadata": {
        "id": "HK6m4ufJytdY"
      }
    },
    {
      "cell_type": "code",
      "source": [
        "lista.append(media_lista) ## append é usado para adicionar um item ao final da lista\n",
        "lista"
      ],
      "metadata": {
        "id": "VodnvgBxy1da"
      },
      "execution_count": null,
      "outputs": []
    },
    {
      "cell_type": "code",
      "source": [
        "lista.extend([7.6, 8.8, 5.2, 10])  ## extend adiciona vários elementos ao final da lista\n",
        "lista"
      ],
      "metadata": {
        "id": "qoUwlE3IzGGy"
      },
      "execution_count": null,
      "outputs": []
    },
    {
      "cell_type": "code",
      "source": [
        "lista.remove(media_lista) ## remove é usado para remover um valor especifico da lista\n",
        "lista"
      ],
      "metadata": {
        "id": "JijVX94qzk1D"
      },
      "execution_count": null,
      "outputs": []
    },
    {
      "cell_type": "code",
      "source": [
        "raca_caes = ['Labrador Retriever',\n",
        "             'Bulldog Francês',\n",
        "             'Pastor Alemão',\n",
        "             'Poodle']\n"
      ],
      "metadata": {
        "id": "MkL-Tp1Tz_mZ"
      },
      "execution_count": null,
      "outputs": []
    },
    {
      "cell_type": "code",
      "source": [
        "raca_caes.insert(1, 'Golden Retriever')  ##insert() insere o elemento em uma determinada posição da lista.\n",
        "raca_caes\n"
      ],
      "metadata": {
        "id": "XMM8qhfD0O3y"
      },
      "execution_count": null,
      "outputs": []
    },
    {
      "cell_type": "code",
      "source": [
        "raca_caes.pop(1)  ## O método pop() remove o elemento de uma lista e o retorna na saída. Só especificar nos parênteses qual o índice do elemento\n"
      ],
      "metadata": {
        "id": "76crcmSy0Z0z"
      },
      "execution_count": null,
      "outputs": []
    },
    {
      "cell_type": "code",
      "source": [
        "raca_caes.index('Pastor Alemão') ## O método index() retorna o índice de um elemento específico na lista\n"
      ],
      "metadata": {
        "id": "kws919zt1JCa"
      },
      "execution_count": null,
      "outputs": []
    },
    {
      "cell_type": "code",
      "source": [
        "raca_caes.sort() ## sort() organiza os elementos da lista em ordem crescente ou decrescente. A ordem é dada por sequência alfabética\n",
        "raca_caes\n"
      ],
      "metadata": {
        "id": "RYeGSkIE1QJ2"
      },
      "execution_count": null,
      "outputs": []
    },
    {
      "cell_type": "markdown",
      "source": [
        "## Dicionario\n",
        "dicionario = {chave : valor}"
      ],
      "metadata": {
        "id": "7MKn6b6_35G2"
      }
    },
    {
      "cell_type": "code",
      "source": [
        "dicionario = {'chave_1' : 1,\n",
        "              'chave_2' : 2}\n",
        "dicionario"
      ],
      "metadata": {
        "id": "qNuhRjW637U1"
      },
      "execution_count": null,
      "outputs": []
    },
    {
      "cell_type": "code",
      "source": [
        "cadastro = {'matricula' : 5523577,\n",
        "            'dia_caddastro' : 28,\n",
        "            'mes_cadastro' : 4,\n",
        "            'turma' : '1C'}\n",
        "cadastro"
      ],
      "metadata": {
        "id": "gCjPMYiz4aA8"
      },
      "execution_count": null,
      "outputs": []
    },
    {
      "cell_type": "code",
      "source": [
        "cadastro ['matricula']  ## para ver um valor em uma chave"
      ],
      "metadata": {
        "id": "JWv22dDa-G8Z"
      },
      "execution_count": null,
      "outputs": []
    },
    {
      "cell_type": "code",
      "source": [
        "cadastro ['turma'] = '2G' ## para alterar um valor, coloque [chave] = novo valor\n",
        "cadastro"
      ],
      "metadata": {
        "id": "sCsDij0t-XwF"
      },
      "execution_count": null,
      "outputs": []
    },
    {
      "cell_type": "code",
      "source": [
        "cadastro ['modalidade'] = 'EAD'  ## para adicionar uma nova chave e valor\n",
        "cadastro"
      ],
      "metadata": {
        "id": "mGwn3S0c-ys6"
      },
      "execution_count": null,
      "outputs": []
    },
    {
      "cell_type": "code",
      "source": [
        "cadastro.pop('turma')  ## pop() também server para retirar um elemento de um dicionário"
      ],
      "metadata": {
        "id": "MPSRti-s_GSq"
      },
      "execution_count": null,
      "outputs": []
    },
    {
      "cell_type": "markdown",
      "source": [
        "Métodos de Consulta"
      ],
      "metadata": {
        "id": "TbB2c_akByto"
      }
    },
    {
      "cell_type": "code",
      "source": [
        "cadastro.items()  ## .items é usado para consultar chaves e valores de um dicionário"
      ],
      "metadata": {
        "id": "WQhLbxW9B1rm"
      },
      "execution_count": null,
      "outputs": []
    },
    {
      "cell_type": "code",
      "source": [
        "cadastro.keys()  ## .keys é usado para consultar as chaves de um dicionário"
      ],
      "metadata": {
        "id": "bGuswKZKB5-_"
      },
      "execution_count": null,
      "outputs": []
    },
    {
      "cell_type": "code",
      "source": [
        "cadastro.values()  ## .values é usado para consultar os valores de um dicionário"
      ],
      "metadata": {
        "id": "qfL6QMucCOFK"
      },
      "execution_count": null,
      "outputs": []
    },
    {
      "cell_type": "code",
      "source": [
        "for chaves in cadastro.keys():\n",
        "  print(cadastro[chaves])"
      ],
      "metadata": {
        "id": "nkbUGQxoCUSQ"
      },
      "execution_count": null,
      "outputs": []
    },
    {
      "cell_type": "code",
      "source": [
        "for valores in cadastro.values():\n",
        "  print(valores)"
      ],
      "metadata": {
        "id": "UP9ybPZsCyE6"
      },
      "execution_count": null,
      "outputs": []
    },
    {
      "cell_type": "markdown",
      "source": [
        "# sum(), help() e dir()"
      ],
      "metadata": {
        "id": "k4HTyqfEEjG0"
      }
    },
    {
      "cell_type": "code",
      "source": [
        "precos = [100.0, 400.0, 200.0]\n",
        "soma = sum(precos)  ##A função sum() permite somar os elementos de uma sequência ou estrutura de dados.\n",
        "soma\n"
      ],
      "metadata": {
        "id": "HotonEmXEk5w"
      },
      "execution_count": null,
      "outputs": []
    },
    {
      "cell_type": "code",
      "source": [
        "help(print) ## A função help() é usada para acessar a documentação de funções, métodos e outros elementos do Python"
      ],
      "metadata": {
        "id": "0rMaHi4MEqjP"
      },
      "execution_count": null,
      "outputs": []
    },
    {
      "cell_type": "code",
      "source": [
        "dir(lista) ## a função dir() é usada para exibir uma lista de atributos e métodos associados a um elemento"
      ],
      "metadata": {
        "id": "wysICgWLE13d"
      },
      "execution_count": null,
      "outputs": []
    },
    {
      "cell_type": "markdown",
      "source": [
        "### **Bibliotecas**"
      ],
      "metadata": {
        "id": "Vf96ZiRTT1DY"
      }
    },
    {
      "cell_type": "code",
      "source": [
        "!pip install matplotlib ## para instalar bibliotecas. ! é usado para maquinas virtuais"
      ],
      "metadata": {
        "id": "K-4e9HEjT3IU"
      },
      "execution_count": null,
      "outputs": []
    },
    {
      "cell_type": "code",
      "source": [
        "!pip install matplotlib==3.6.2  ## instalar determinada versão de uma biblioteca, utilizar =='numero da versão'"
      ],
      "metadata": {
        "id": "jKgH_t3uUOpq"
      },
      "execution_count": null,
      "outputs": []
    },
    {
      "cell_type": "code",
      "source": [
        "import matplotlib ## importando a biblioteca"
      ],
      "metadata": {
        "id": "pA88QPspUwRI"
      },
      "execution_count": null,
      "outputs": []
    },
    {
      "cell_type": "code",
      "source": [
        "matplotlib.__version__ ## utilize .__version__ para verificar a versão da biblioteca importada"
      ],
      "metadata": {
        "id": "YFrh_uUjU_pu"
      },
      "execution_count": null,
      "outputs": []
    },
    {
      "cell_type": "code",
      "source": [
        "import matplotlib.pyplot as plt  ## importar biblioteca e mudando o nome par plt, para facilitar quando chamar as funções"
      ],
      "metadata": {
        "id": "M9uT8B5rVNLE"
      },
      "execution_count": null,
      "outputs": []
    },
    {
      "cell_type": "code",
      "source": [
        "!pip list ### ver todos os pacotes instalados"
      ],
      "metadata": {
        "id": "8VKO4DXZWKcC"
      },
      "execution_count": null,
      "outputs": []
    },
    {
      "cell_type": "code",
      "source": [
        "estudantes = ['João', 'Maria', 'Renan']\n",
        "notas = [8.8, 5.8, 9.7]"
      ],
      "metadata": {
        "id": "Mt5ciWOSWK8f"
      },
      "execution_count": null,
      "outputs": []
    },
    {
      "cell_type": "code",
      "source": [
        "plt.bar(x = estudantes, height = notas ) ## criando uma tabela como .bar de maneira encurtada"
      ],
      "metadata": {
        "id": "lL46T9kzXCM8"
      },
      "execution_count": null,
      "outputs": []
    },
    {
      "cell_type": "code",
      "source": [
        "matplotlib.pyplot.bar(x = estudantes, height = notas) ## criando sem encurtar."
      ],
      "metadata": {
        "id": "RwBCuXdCYaAL"
      },
      "execution_count": null,
      "outputs": []
    },
    {
      "cell_type": "code",
      "source": [
        "estudantes1 = ['João', 'Maria', 'Renan', 'Luana']"
      ],
      "metadata": {
        "id": "BkO22L76XVvV"
      },
      "execution_count": null,
      "outputs": []
    },
    {
      "cell_type": "code",
      "source": [
        "from random import choice  ## importando um metódo de uma função"
      ],
      "metadata": {
        "id": "eHWwVC2sXf8X"
      },
      "execution_count": null,
      "outputs": []
    },
    {
      "cell_type": "code",
      "source": [
        "help(choice)"
      ],
      "metadata": {
        "id": "SvlLX4-ZYcaB"
      },
      "execution_count": null,
      "outputs": []
    },
    {
      "cell_type": "code",
      "source": [
        "estudantes = choice(estudantes1)  ## choice escolhe um elemento aleatório de uma lista\n",
        "estudantes"
      ],
      "metadata": {
        "id": "lWMu9qF3YqAs"
      },
      "execution_count": null,
      "outputs": []
    },
    {
      "cell_type": "markdown",
      "source": [
        "### Built-In Functions\n",
        "print, type, sum"
      ],
      "metadata": {
        "id": "g7ejbm7zbcSL"
      }
    },
    {
      "cell_type": "code",
      "source": [
        "notas11 = {'Primeiro Trismestre': 8.5, 'Segundo Trismestre': 6.2, 'Terceiro Trismestre': 7.7}\n",
        "notas11"
      ],
      "metadata": {
        "id": "Khn0lAo0Z8oz"
      },
      "execution_count": null,
      "outputs": []
    },
    {
      "cell_type": "code",
      "source": [
        "soma11 = 0\n",
        "\n",
        "for nota in notas11.values():   ## programa para somar as notas\n",
        "  soma11 += nota\n",
        "\n",
        "soma11"
      ],
      "metadata": {
        "id": "U5N-t_vHcRGu"
      },
      "execution_count": null,
      "outputs": []
    },
    {
      "cell_type": "code",
      "source": [
        "somatorio = sum(notas11.values())  ## fazendo a mesma soma, usando buld-in functions\n",
        "somatorio"
      ],
      "metadata": {
        "id": "ig4bBsa7cpv1"
      },
      "execution_count": null,
      "outputs": []
    },
    {
      "cell_type": "code",
      "source": [
        "qtd_notas = len(notas11)  ## usando len\n",
        "qtd_notas"
      ],
      "metadata": {
        "id": "uKqnXGE_dUOP"
      },
      "execution_count": null,
      "outputs": []
    },
    {
      "cell_type": "code",
      "source": [
        "media = somatorio / qtd_notas ## fazendo a media\n",
        "media"
      ],
      "metadata": {
        "id": "QKQvPxw3dqW5"
      },
      "execution_count": null,
      "outputs": []
    },
    {
      "cell_type": "code",
      "source": [
        "round? ## verificar o que a função faz"
      ],
      "metadata": {
        "id": "mHwJJvR7dzdT"
      },
      "execution_count": null,
      "outputs": []
    },
    {
      "cell_type": "code",
      "source": [
        "media = somatorio / qtd_notas ## fazendo a media e usando round para arredondar\n",
        "round(media, 1)"
      ],
      "metadata": {
        "id": "ClUqz4rheB59"
      },
      "execution_count": null,
      "outputs": []
    },
    {
      "cell_type": "markdown",
      "source": [
        "### **Criando Funções**"
      ],
      "metadata": {
        "id": "QcFlJF1Ne1r2"
      }
    },
    {
      "cell_type": "code",
      "source": [
        "def media():   ## função sem parâmetros/ parâmetros fixos.\n",
        "  calculo = (10 + 6 + 8) / 3\n",
        "  print(calculo)"
      ],
      "metadata": {
        "id": "0PcHra4WeLvw"
      },
      "execution_count": null,
      "outputs": []
    },
    {
      "cell_type": "code",
      "source": [
        "media()"
      ],
      "metadata": {
        "id": "hGwozzNufp0B"
      },
      "execution_count": null,
      "outputs": []
    },
    {
      "cell_type": "code",
      "source": [
        "def media(nota_1, nota_2, nota_3):  ## função com parâmetros\n",
        "  calculo = (nota_1 + nota_2 + nota_3) / 3  ## a váriavel calculo só existe dentro da função, é uma váriavel local\n",
        "  print (calculo)\n"
      ],
      "metadata": {
        "id": "68zeJLzyfrE3"
      },
      "execution_count": null,
      "outputs": []
    },
    {
      "cell_type": "code",
      "source": [
        "media(3.7, 6.6, 9.7)"
      ],
      "metadata": {
        "id": "PnwlcWSwgKPB"
      },
      "execution_count": null,
      "outputs": []
    },
    {
      "cell_type": "code",
      "source": [
        "def media(nota_1, nota_2, nota_3):\n",
        "  calculo = round((nota_1 + nota_2 + nota_3) / 3, 2)  ## usando round para arredondar\n",
        "  print (calculo)\n"
      ],
      "metadata": {
        "id": "BZ0P9C_mgVre"
      },
      "execution_count": null,
      "outputs": []
    },
    {
      "cell_type": "code",
      "source": [
        "media(3.7, 6.6, 9.7)"
      ],
      "metadata": {
        "id": "J1dk5taxgm0u"
      },
      "execution_count": null,
      "outputs": []
    },
    {
      "cell_type": "code",
      "source": [
        "def media(lista):\n",
        "  calculo = sum(lista) / len(lista)  ## fazendo uma função para calcular media de uma lista usando len()\n",
        "  print(calculo)"
      ],
      "metadata": {
        "id": "KiOzkiwYgolL"
      },
      "execution_count": null,
      "outputs": []
    },
    {
      "cell_type": "code",
      "source": [
        "notas22 = [7, 6.7, 7, 8, 9, 5,]"
      ],
      "metadata": {
        "id": "Htydta1XhnLj"
      },
      "execution_count": null,
      "outputs": []
    },
    {
      "cell_type": "code",
      "source": [
        "media(notas22)  ## testando programa de media da lista"
      ],
      "metadata": {
        "id": "_VzCdwXQhyB9"
      },
      "execution_count": null,
      "outputs": []
    },
    {
      "cell_type": "markdown",
      "source": [
        "Variaveis criadas em funções são locais e não podem ser chamadas. Para corrigir esse erro, podemos tornar y uma variável global ou retornar seu valor na função e atribuí-lo a uma variável externa"
      ],
      "metadata": {
        "id": "ekGx1KWajI67"
      }
    },
    {
      "cell_type": "markdown",
      "source": [
        "### Funções com Retorno"
      ],
      "metadata": {
        "id": "_LvaHNlfjW_U"
      }
    },
    {
      "cell_type": "code",
      "source": [
        "notas22 = [7, 6.7, 7, 8, 9, 5,]"
      ],
      "metadata": {
        "id": "MOnxC6O6jZNA"
      },
      "execution_count": null,
      "outputs": []
    },
    {
      "cell_type": "code",
      "source": [
        "def media(lista):\n",
        "  calculo = sum(lista) / len(lista)\n",
        "  return calculo  ## usando return, cálculo se torna uma váriavel global"
      ],
      "metadata": {
        "id": "nEz6qSCsjhgQ"
      },
      "execution_count": null,
      "outputs": []
    },
    {
      "cell_type": "code",
      "source": [
        "resultado = media(notas22)\n",
        "resultado"
      ],
      "metadata": {
        "id": "XUesScs0jsdq"
      },
      "execution_count": null,
      "outputs": []
    },
    {
      "cell_type": "code",
      "source": [
        "def boletim(lista):\n",
        "  media = sum(lista) / len(lista)\n",
        "\n",
        "  if media >= 6:\n",
        "    situacao = \"Aprovado\"\n",
        "    situacao = \"Reprovado\"\n",
        "\n",
        "    return(media, situacao)"
      ],
      "metadata": {
        "id": "WaQlcMLPj2A3"
      },
      "execution_count": null,
      "outputs": []
    },
    {
      "cell_type": "code",
      "source": [
        "boletim(notas22)"
      ],
      "metadata": {
        "id": "geYH_E9Db6mL"
      },
      "execution_count": null,
      "outputs": []
    },
    {
      "cell_type": "code",
      "source": [
        "media, situacao = boletim(notas22)"
      ],
      "metadata": {
        "id": "jpT8nNt8cAuy"
      },
      "execution_count": null,
      "outputs": []
    },
    {
      "cell_type": "code",
      "source": [
        "media"
      ],
      "metadata": {
        "id": "Vn7BS3tjdfhT"
      },
      "execution_count": null,
      "outputs": []
    },
    {
      "cell_type": "code",
      "source": [
        "situacao"
      ],
      "metadata": {
        "id": "bZNXnzihdgu7"
      },
      "execution_count": null,
      "outputs": []
    },
    {
      "cell_type": "code",
      "source": [
        "print(f\"O estudante atingiu uma média de {round(media, 2)} e foi {situacao}.\" )"
      ],
      "metadata": {
        "id": "A63OH78-dip3"
      },
      "execution_count": null,
      "outputs": []
    },
    {
      "cell_type": "markdown",
      "source": [
        "## Funções Lambda\n",
        "lambda {argumentos}: {expressão}\n"
      ],
      "metadata": {
        "id": "5NeDz2DBeXTl"
      }
    },
    {
      "cell_type": "code",
      "source": [
        "nota23 = float(input(\"Digite a nota do estudante \"))\n",
        "\n",
        "def qualitativo(x):  ## função normal\n",
        "  return x + 0.5\n",
        "\n",
        "qualitativo(nota23)"
      ],
      "metadata": {
        "id": "CYIFCUa5dzAe"
      },
      "execution_count": null,
      "outputs": []
    },
    {
      "cell_type": "code",
      "source": [
        "nota23 = float(input(\"Digite a nota do estudante \"))\n",
        "\n",
        "qualitativo = lambda x: x + 0.5  ## função lambda. Basicamente é um função reduzida.\n",
        "\n",
        "qualitativo(nota23)"
      ],
      "metadata": {
        "id": "DHz9AGZXeaBw"
      },
      "execution_count": null,
      "outputs": []
    },
    {
      "cell_type": "code",
      "source": [
        "N1 = float(input(\"Digite a 1 nota do estudante \"))\n",
        "N2 = float(input(\"Digite a 2 nota do estudante \"))\n",
        "N3 = float(input(\"Digite a 3 nota do estudante \"))\n",
        "\n",
        "media_ponderada = lambda x, y, z: (x * 3 + y * 2 + z * 5) / 10   ## usando lambda para criar uma média ponderada de 3 notas. (a divisão por 10 no final é a soma do valor de cada nota)\n",
        "\n",
        "media_estudante = media_ponderada(N1, N2, N3)\n",
        "media_estudante"
      ],
      "metadata": {
        "id": "7ayTvAocgETr"
      },
      "execution_count": null,
      "outputs": []
    },
    {
      "cell_type": "markdown",
      "source": [
        "## Função Map\n",
        "Permite aplicar uma função a cada elemento de uma sequência\n",
        "\n",
        "map(função, elementos que serão aplicados)"
      ],
      "metadata": {
        "id": "xnnwxI_1iT_h"
      }
    },
    {
      "cell_type": "code",
      "source": [
        "def calcular_quadrado(numero):\n",
        "    return numero ** 2\n",
        "\n",
        "numeros = [1, 2, 3, 4, 5]\n",
        "quadrados = list(map(calcular_quadrado, numeros))  ## um exemplo prático de como utilizar a função map para calcular o quadrado de cada número em uma lista\n",
        "print(quadrados)"
      ],
      "metadata": {
        "id": "zimc0GYiirac"
      },
      "execution_count": null,
      "outputs": []
    },
    {
      "cell_type": "code",
      "source": [
        "notas22 = [7, 6.7, 7, 8, 9, 5,]\n",
        "qualitativo = 0.5"
      ],
      "metadata": {
        "id": "YjqZKtU4hqc5"
      },
      "execution_count": null,
      "outputs": []
    },
    {
      "cell_type": "code",
      "source": [
        "notas_atualizadas = lambda x: x + qualitativo   ## lambda não serve para estruturas de dados. Não é possível puxar elementos de uma lista para o lambda.\n",
        "notas_atualizadas (notas22)"
      ],
      "metadata": {
        "id": "LboxH-FCiWlU"
      },
      "execution_count": null,
      "outputs": []
    },
    {
      "cell_type": "code",
      "source": [
        "notas_atualizadas = map(lambda x: x + qualitativo, notas22)  ## transformamos em um objeto mapa\n",
        "notas_atualizadas"
      ],
      "metadata": {
        "id": "Gs95aF3kjQft"
      },
      "execution_count": null,
      "outputs": []
    },
    {
      "cell_type": "code",
      "source": [
        "notas_atualizadas = list(notas_atualizadas)  ## depois de mapear devemos usar o list() para transformar em lista novamente.\n",
        "notas_atualizadas"
      ],
      "metadata": {
        "id": "IkZ4wGLHko_o"
      },
      "execution_count": null,
      "outputs": []
    },
    {
      "cell_type": "markdown",
      "source": [
        "Listas de listas\n"
      ],
      "metadata": {
        "id": "KShb3uApoZHP"
      }
    },
    {
      "cell_type": "code",
      "source": [
        "notas_turmas = [\"João\", 8.9, 5.7, 5.3, \"Maria\", 7.9, 8.7, 5, \"Luis\", 8, 5, 4.5, \"Denis\", 5, 7.7, 10,  ]  ## lista com nomes e notas"
      ],
      "metadata": {
        "id": "5pdlKvhElFvr"
      },
      "execution_count": null,
      "outputs": []
    },
    {
      "cell_type": "code",
      "source": [
        "nomes = []\n",
        "notas_juntas = []\n",
        "\n",
        "for i in range(len(notas_turmas)):\n",
        "  if i % 4 == 0:   ### estamos separando os nomes de notas. Todo nome está em uma posição multipla de 4 (lembrando que começa do 0)\n",
        "    nomes.append(notas_turmas[i])\n",
        "  else:\n",
        "    notas_juntas.append(notas_turmas[i])"
      ],
      "metadata": {
        "id": "fons3dfBobBt"
      },
      "execution_count": null,
      "outputs": []
    },
    {
      "cell_type": "code",
      "source": [
        "nomes"
      ],
      "metadata": {
        "id": "6nBh-AJWq2Ym"
      },
      "execution_count": null,
      "outputs": []
    },
    {
      "cell_type": "code",
      "source": [
        "notas_juntas"
      ],
      "metadata": {
        "id": "T2w5UJ9Xq_tJ"
      },
      "execution_count": null,
      "outputs": []
    },
    {
      "cell_type": "code",
      "source": [
        "notas = []\n",
        "\n",
        "for i in range(0, len(notas_juntas), 3):\n",
        "  notas.append([notas_juntas[i], notas_juntas[i+1], notas_juntas[i+2]])  ## criando uma lista de listas\n",
        "notas"
      ],
      "metadata": {
        "id": "cbMP8IN8rA3r"
      },
      "execution_count": null,
      "outputs": []
    },
    {
      "cell_type": "code",
      "source": [
        "notas[0]  # acenssando um valor em uma lista"
      ],
      "metadata": {
        "id": "lCsrPiRzsond"
      },
      "execution_count": null,
      "outputs": []
    },
    {
      "cell_type": "code",
      "source": [
        "notas[0][1] ## acessando um valor de uma lista dentro de uma lista"
      ],
      "metadata": {
        "id": "QoBVs9YOuEOR"
      },
      "execution_count": null,
      "outputs": []
    },
    {
      "cell_type": "markdown",
      "source": [
        "# Listas de Tuplas"
      ],
      "metadata": {
        "id": "h6JKCZ77upQC"
      }
    },
    {
      "cell_type": "code",
      "source": [
        "estudantes = [\"João\", \"Renan\", \"Maria\", \"Luana\", \"Thais\",]\n",
        "estudantes"
      ],
      "metadata": {
        "id": "7c_HLClSuHM7"
      },
      "execution_count": null,
      "outputs": []
    },
    {
      "cell_type": "code",
      "source": [
        "from random import randint ### randint escolher um numero inteiro dentro de um range.\n",
        "\n",
        "def gera_codigo():      ## função para gerar um código aleatório.\n",
        "  return str(randint(0,999))  ## range de 0 - 999"
      ],
      "metadata": {
        "id": "1X6n7XoQRn_8"
      },
      "execution_count": null,
      "outputs": []
    },
    {
      "cell_type": "code",
      "source": [
        "codigo_estudantes = []\n",
        "\n",
        "for i in range(len(estudantes)):\n",
        "  codigo_estudantes.append((estudantes[i], estudantes[i][0] + gera_codigo()))  ## gera_codigo esta com () pois queremos criar tuplas.\n",
        "\n",
        "codigo_estudantes"
      ],
      "metadata": {
        "id": "zra1xOTOSWa_"
      },
      "execution_count": null,
      "outputs": []
    },
    {
      "cell_type": "markdown",
      "source": [
        "# List Comprehension"
      ],
      "metadata": {
        "id": "sYbjjwuGTyTQ"
      }
    },
    {
      "cell_type": "code",
      "source": [
        "notas"
      ],
      "metadata": {
        "id": "lflZibS6S5xq"
      },
      "execution_count": null,
      "outputs": []
    },
    {
      "cell_type": "code",
      "source": [
        "def media(lista: list=[0]) -> float:   ## a setinha -> indica o tipo que a função deve retornar\n",
        "  calculo = sum(lista) / len(lista)  ## função de media\n",
        "\n",
        "  return calculo"
      ],
      "metadata": {
        "id": "monY_UNaUuK7"
      },
      "execution_count": null,
      "outputs": []
    },
    {
      "cell_type": "code",
      "source": [
        "medias = [round(media(nota),1) for nota in notas]\n",
        "medias"
      ],
      "metadata": {
        "id": "hVIEBEFCVNr2"
      },
      "execution_count": null,
      "outputs": []
    },
    {
      "cell_type": "code",
      "source": [
        "\n",
        "print(nomes, medias)"
      ],
      "metadata": {
        "id": "aWccMyn5VtQB"
      },
      "execution_count": null,
      "outputs": []
    },
    {
      "cell_type": "code",
      "source": [
        "estudantes = [nome[0] for nome in codigo_estudantes]   ### retirando nomes da tupla codigo_estudantes.\n",
        "estudantes"
      ],
      "metadata": {
        "id": "y9dYbbZ6WR4Q"
      },
      "execution_count": null,
      "outputs": []
    },
    {
      "cell_type": "code",
      "source": [
        "estudantes1 = list(zip(nomes, medias))   ## podemos usar list(zip()) para converter em listas de tuplas.\n",
        "estudantes1"
      ],
      "metadata": {
        "id": "FUlRrO0vXKfd"
      },
      "execution_count": null,
      "outputs": []
    },
    {
      "cell_type": "code",
      "source": [
        "canditados = [estudante[0] for estudante in estudantes1 if estudante[1] >= 8.0]   ### estudante[1] está puxando as notas e estudante[0] o nome. Estamos usando if para realizar o for in.\n",
        "canditados                                                                         # estamos querendo pegar os estudantes com a media maior que 8."
      ],
      "metadata": {
        "id": "LGbQaPP8X-Uo"
      },
      "execution_count": null,
      "outputs": []
    },
    {
      "cell_type": "code",
      "source": [
        "notas = [8, 7, 9]\n",
        "pesos = [2, 3, 1]\n",
        "\n",
        "media_ponderada = sum(nota * peso for nota, peso in zip(notas, pesos)) / sum(pesos)\n",
        "\n",
        "'''\n",
        "Explicação por partes:\n",
        "zip(notas, pesos): Esta função combina os elementos de notas e pesos em tuplas. Ou seja, cria pares de (nota, peso).\n",
        "(nota * peso for nota, peso in zip(notas, pesos)): Isso é uma generator expression. Para cada par de (nota, peso), multiplica a nota pelo peso. Assim, obtemos uma sequência de produtos de cada nota pelo seu peso.\n",
        "'''\n",
        "\n",
        "print(f\"A média ponderada é: {media_ponderada}\")\n",
        "\n",
        "# Output:\n",
        "# A média ponderada é: 7.8"
      ],
      "metadata": {
        "id": "Ai_heA48mNPx"
      },
      "execution_count": null,
      "outputs": []
    },
    {
      "cell_type": "markdown",
      "source": [
        "\n",
        "List comprehension com if-else"
      ],
      "metadata": {
        "id": "QPWk6gDteMnU"
      }
    },
    {
      "cell_type": "code",
      "source": [
        "situacao = [\"Aprovado\" if media >= 6 else \"Reprovado\" for media in medias]\n",
        "situacao"
      ],
      "metadata": {
        "id": "lULE0lIqY7fG"
      },
      "execution_count": null,
      "outputs": []
    },
    {
      "cell_type": "code",
      "source": [
        "cadastros = [x for x in [nomes, notas, medias, situacao]]\n",
        "cadastros"
      ],
      "metadata": {
        "id": "TAlSEm2tqcj3"
      },
      "execution_count": null,
      "outputs": []
    },
    {
      "cell_type": "code",
      "source": [
        "lista_completa = [nomes, notas, medias, situacao]\n",
        "lista_completa"
      ],
      "metadata": {
        "id": "UVIZZgQZq7tg"
      },
      "execution_count": null,
      "outputs": []
    },
    {
      "cell_type": "markdown",
      "source": [
        "# Dict comprehension"
      ],
      "metadata": {
        "id": "1924IxlOruBM"
      }
    },
    {
      "cell_type": "code",
      "source": [
        "coluna = [\"Notas\", \"Media final\", \"Situação\"]\n",
        "\n",
        "cadastro = {coluna[i]: lista_completa[i+1] for i in range(len(coluna))}  ## criando um dicionario com 3 colunas\n",
        "cadastro"
      ],
      "metadata": {
        "id": "1HiXVdUkrMzt"
      },
      "execution_count": null,
      "outputs": []
    },
    {
      "cell_type": "markdown",
      "source": [
        "# Tratando exceções"
      ],
      "metadata": {
        "id": "8HGa0vQt-45f"
      }
    },
    {
      "cell_type": "code",
      "source": [
        "notas1 = {'João': [8.0, 7.5, 5.5],'Renan': [8.8, 9.5, 7.4], 'Maria': [3.6, 5.7, 6], 'Gabriel': [7.0, 4.5, 3.2], 'Luana': [9.7, 7.5, 6.4], 'Thais': [8.0, 6.8, 2.1], 'Isaque': [4.7, 9.5, 10.0], }"
      ],
      "metadata": {
        "id": "dIy4AwOlul1B"
      },
      "execution_count": null,
      "outputs": []
    },
    {
      "cell_type": "code",
      "source": [
        "nome = input(\"Digite o nome do estudante: \")\n",
        "resultado = notas1[nome]      ## ao digitar um nome que não há na lista, aparecera um KeyError.\n",
        "resultado"
      ],
      "metadata": {
        "id": "4Pqu5iRZ-6XE"
      },
      "execution_count": null,
      "outputs": []
    },
    {
      "cell_type": "code",
      "source": [
        "try:\n",
        "  nome = input(\"Digite o nome do estudante: \")\n",
        "  resultado = notas1[nome]\n",
        "\n",
        "except Exception as e:   ## usando try and except, ao digitar um nome que não aparece na lista, aparecera um erro, porém mais tratado.\n",
        "  print(type(e), f\"erro: {e}\")"
      ],
      "metadata": {
        "id": "cUVCV-e1IRnc"
      },
      "execution_count": null,
      "outputs": []
    },
    {
      "cell_type": "code",
      "source": [
        "try:\n",
        "  nome = input(\"Digite o nome do estudante: \")\n",
        "  resultado = notas1[nome]\n",
        "  print(resultado)\n",
        "\n",
        "except KeyError:   ## Podemos definir o erro e a resposta a ele.\n",
        "  print(\"Estudante não matriculado na turma\")"
      ],
      "metadata": {
        "id": "tNvn-1f3JIaI"
      },
      "execution_count": null,
      "outputs": []
    },
    {
      "cell_type": "code",
      "source": [
        "try:\n",
        "  nome = input(\"Digite o nome do estudante: \")\n",
        "  resultado = notas1[nome]\n",
        "\n",
        "except KeyError:\n",
        "  print(\"Estudante não matriculado na turma\")\n",
        "\n",
        "else:     ## podemos adicionar o else. O else vai rodar somente caso não tenha uma execessão. Como se estivesse seguindo o try.\n",
        "  print(resultado)"
      ],
      "metadata": {
        "id": "47-yP1c5MEkd"
      },
      "execution_count": null,
      "outputs": []
    },
    {
      "cell_type": "markdown",
      "source": [
        "Finally\n"
      ],
      "metadata": {
        "id": "D7jc_fYQN1fU"
      }
    },
    {
      "cell_type": "code",
      "source": [
        "try:\n",
        "  nome = input(\"Digite o nome do estudante: \")\n",
        "  resultado = notas1[nome]\n",
        "\n",
        "except KeyError:\n",
        "  print(\"Estudante não matriculado na turma\")\n",
        "\n",
        "else:\n",
        "  print(resultado)\n",
        "\n",
        "finally:          ## serve como um fechamento, ele é ativado caso a execessão seja ou não usada.\n",
        "  print(\"consulta encerrada\")"
      ],
      "metadata": {
        "id": "RaViM7kJNMBe"
      },
      "execution_count": null,
      "outputs": []
    },
    {
      "cell_type": "markdown",
      "source": [
        "Raise"
      ],
      "metadata": {
        "id": "CAguBLnpPtrb"
      }
    },
    {
      "cell_type": "code",
      "source": [
        "def media(lista: list=[0]) -> float:  ## função para criar uma media de notas passada por uma lista\n",
        "\n",
        "  calculo = sum(lista)/len(lista)\n",
        "\n",
        "  if len(lista) > 4:\n",
        "    raise ValueError(\"A lista não pode possuir mais de 4 notas\")  ## Definimos o que deve aparecer ao dar erro, caso seja inserido mais de 4 notas.\n",
        "\n",
        "  return calculo"
      ],
      "metadata": {
        "id": "3ib7FkPqORb2"
      },
      "execution_count": null,
      "outputs": []
    },
    {
      "cell_type": "code",
      "source": [
        "notas = [6, 7.6, 9.2, 5.8, 9]  ##rode para ver o erro.\n",
        "resultado = media(notas)\n",
        "resultado"
      ],
      "metadata": {
        "id": "HlmSTNekUKSA"
      },
      "execution_count": null,
      "outputs": []
    },
    {
      "cell_type": "code",
      "source": [
        " try:\n",
        "  notas = [6, 7.6, 9.2, 5.8]  ## aqui deve rodar a média\n",
        "  resultado = media(notas)\n",
        "except TypeError:\n",
        "  print(\"Não foi possível calcular, coloque somente valores numéricos\")\n",
        "except ValueError as e:\n",
        "  print(e)\n",
        "else:\n",
        "  print(resultado)\n",
        "finally:\n",
        "  print(\"consulta encerrada\")\n"
      ],
      "metadata": {
        "id": "mDqJo2Y2Ue2z"
      },
      "execution_count": null,
      "outputs": []
    },
    {
      "cell_type": "code",
      "source": [
        " try:\n",
        "  notas = [6, 7.6, 9.2, 5.8, 9]\n",
        "  resultado = media(notas)\n",
        "except TypeError:\n",
        "  print(\"Não foi possível calcular, coloque somente valores numéricos\")\n",
        "except ValueError as e: ## aqui deve dar erro de value definido na função.\n",
        "  print(e)\n",
        "else:\n",
        "  print(resultado)\n",
        "finally:\n",
        "  print(\"consulta encerrada\")"
      ],
      "metadata": {
        "id": "dPAqLQPxWCAK"
      },
      "execution_count": null,
      "outputs": []
    },
    {
      "cell_type": "code",
      "source": [
        " try:\n",
        "  notas = [6, 7.6, 9.2, 5.8, \"9\"]\n",
        "  resultado = media(notas)\n",
        "except TypeError:\n",
        "  print(\"Não foi possível calcular, coloque somente valores numéricos\") ## aqui deve dar esse erro.\n",
        "except ValueError as e:\n",
        "  print(e)\n",
        "else:\n",
        "  print(resultado)\n",
        "finally:\n",
        "  print(\"consulta encerrada\")"
      ],
      "metadata": {
        "id": "p1usBtpgWGWg"
      },
      "execution_count": null,
      "outputs": []
    },
    {
      "cell_type": "code",
      "source": [],
      "metadata": {
        "id": "CGLpIPbYWiyT"
      },
      "execution_count": null,
      "outputs": []
    }
  ]
}